{
  "nbformat": 4,
  "nbformat_minor": 0,
  "metadata": {
    "colab": {
      "provenance": [],
      "authorship_tag": "ABX9TyN7CUedlcqR+BMmn/hoWfNK",
      "include_colab_link": true
    },
    "kernelspec": {
      "name": "python3",
      "display_name": "Python 3"
    },
    "language_info": {
      "name": "python"
    }
  },
  "cells": [
    {
      "cell_type": "markdown",
      "metadata": {
        "id": "view-in-github",
        "colab_type": "text"
      },
      "source": [
        "<a href=\"https://colab.research.google.com/github/ariesrio/VDA-CPE031-CPE21S4/blob/main/Exercise_No_1.ipynb\" target=\"_parent\"><img src=\"https://colab.research.google.com/assets/colab-badge.svg\" alt=\"Open In Colab\"/></a>"
      ]
    },
    {
      "cell_type": "markdown",
      "source": [
        "# Exercise 1"
      ],
      "metadata": {
        "id": "UchQRy9f_gw9"
      }
    },
    {
      "cell_type": "markdown",
      "source": [
        "\n",
        "## 1. Variables and Data Types\n",
        "\n",
        "\n"
      ],
      "metadata": {
        "id": "owy32ohy3oVO"
      }
    },
    {
      "cell_type": "code",
      "source": [
        "#Numbers\n",
        "varNum = 123\n",
        "pi = 3.14159\n",
        "\n",
        "#Strings\n",
        "varString = \"HEllo World!\"\n",
        "varText = \"This is a string.\"\n",
        "\n",
        "#Lists\n",
        "varList = [\"abc\", 123]\n",
        "\n",
        "#Tuples\n",
        "varTuple = (\"abc\", 123, \"HELLO\")\n",
        "\n",
        "#Dictionaries\n",
        "var = 3\n",
        "varDict = {'first' :1, 2 : '2nd', 3 : var}\n",
        "\n",
        "varDict = {}\n",
        "varDict['first'] = 1\n",
        "varDict[2] = \"2nd\"\n",
        "varDict[3] = var\n"
      ],
      "metadata": {
        "id": "sp4bhx8Q3p2W"
      },
      "execution_count": 12,
      "outputs": []
    },
    {
      "cell_type": "markdown",
      "source": [
        "## 2. Arithmetic"
      ],
      "metadata": {
        "id": "N34ZWnuE7KhG"
      }
    },
    {
      "cell_type": "code",
      "source": [
        "#Addition\n",
        "a = 5+3\n",
        "a"
      ],
      "metadata": {
        "colab": {
          "base_uri": "https://localhost:8080/"
        },
        "id": "9qXoFNJI7XM-",
        "outputId": "24fcebf6-536c-40ca-ca4c-d7cdee91e9fe"
      },
      "execution_count": 58,
      "outputs": [
        {
          "output_type": "execute_result",
          "data": {
            "text/plain": [
              "8"
            ]
          },
          "metadata": {},
          "execution_count": 58
        }
      ]
    },
    {
      "cell_type": "code",
      "source": [
        "#subtraction\n",
        "a = 5-3\n",
        "a"
      ],
      "metadata": {
        "colab": {
          "base_uri": "https://localhost:8080/"
        },
        "id": "Mv1UW2c5DiRM",
        "outputId": "b7ee80bb-a8cb-4184-9076-d04e6006a1bd"
      },
      "execution_count": 59,
      "outputs": [
        {
          "output_type": "execute_result",
          "data": {
            "text/plain": [
              "2"
            ]
          },
          "metadata": {},
          "execution_count": 59
        }
      ]
    },
    {
      "cell_type": "code",
      "source": [
        "#Multiplication\n",
        "a = 5*3\n",
        "a"
      ],
      "metadata": {
        "colab": {
          "base_uri": "https://localhost:8080/"
        },
        "id": "9NyAVum09Sgc",
        "outputId": "436dc6ae-74ba-4d2d-e368-29531c896f26"
      },
      "execution_count": 60,
      "outputs": [
        {
          "output_type": "execute_result",
          "data": {
            "text/plain": [
              "15"
            ]
          },
          "metadata": {},
          "execution_count": 60
        }
      ]
    },
    {
      "cell_type": "code",
      "source": [
        "#Exponent\n",
        "a = 5**3\n",
        "a"
      ],
      "metadata": {
        "colab": {
          "base_uri": "https://localhost:8080/"
        },
        "id": "cKfiyc65DwMr",
        "outputId": "be76c6f4-eedb-4aaf-d152-2eb40e3bc4e0"
      },
      "execution_count": 61,
      "outputs": [
        {
          "output_type": "execute_result",
          "data": {
            "text/plain": [
              "125"
            ]
          },
          "metadata": {},
          "execution_count": 61
        }
      ]
    },
    {
      "cell_type": "code",
      "source": [
        "#Division\n",
        "a = 5/3\n",
        "a"
      ],
      "metadata": {
        "colab": {
          "base_uri": "https://localhost:8080/"
        },
        "id": "QPxGV9OVD03s",
        "outputId": "574844c5-80f5-40c5-f6d6-db5a23ddeb0e"
      },
      "execution_count": 62,
      "outputs": [
        {
          "output_type": "execute_result",
          "data": {
            "text/plain": [
              "1.6666666666666667"
            ]
          },
          "metadata": {},
          "execution_count": 62
        }
      ]
    },
    {
      "cell_type": "code",
      "source": [
        "a = 5 % 3\n",
        "a"
      ],
      "metadata": {
        "colab": {
          "base_uri": "https://localhost:8080/"
        },
        "id": "-ynPNku_D45U",
        "outputId": "58f9744e-acc2-4150-fbbe-a4f3ba35865e"
      },
      "execution_count": 64,
      "outputs": [
        {
          "output_type": "execute_result",
          "data": {
            "text/plain": [
              "2"
            ]
          },
          "metadata": {},
          "execution_count": 64
        }
      ]
    },
    {
      "cell_type": "code",
      "source": [
        "a= 5//3\n",
        "a"
      ],
      "metadata": {
        "colab": {
          "base_uri": "https://localhost:8080/"
        },
        "id": "s-bKFoWSD790",
        "outputId": "c7bd40b6-0060-45f6-bf92-149d9d0919b6"
      },
      "execution_count": 65,
      "outputs": [
        {
          "output_type": "execute_result",
          "data": {
            "text/plain": [
              "1"
            ]
          },
          "metadata": {},
          "execution_count": 65
        }
      ]
    },
    {
      "cell_type": "markdown",
      "source": [
        "## 3. Control Statements And Data Structures"
      ],
      "metadata": {
        "id": "pIdvqMAG7Z0X"
      }
    },
    {
      "cell_type": "markdown",
      "source": [
        "### **Conditional Statements**"
      ],
      "metadata": {
        "id": "pzusuJpt9pPG"
      }
    },
    {
      "cell_type": "code",
      "source": [
        "#Boolean Conditions\n",
        "x= True\n",
        "if x:\n",
        "  print(\"var is True\")\n",
        "else:\n",
        "  print(\"var is False\")"
      ],
      "metadata": {
        "colab": {
          "base_uri": "https://localhost:8080/"
        },
        "id": "F0cAsd3R7i5g",
        "outputId": "a0c91494-123b-4ad4-e062-b7a20b6c0b60"
      },
      "execution_count": 31,
      "outputs": [
        {
          "output_type": "stream",
          "name": "stdout",
          "text": [
            "var is True\n"
          ]
        }
      ]
    },
    {
      "cell_type": "code",
      "source": [
        "#String Conditions\n",
        "x = \"Hello World!\"\n",
        "if x == 'Hello World!':\n",
        "  print(\"var x is Hello World!\")\n",
        "else:\n",
        "  print(\"var x is not Hello World!\")\n"
      ],
      "metadata": {
        "colab": {
          "base_uri": "https://localhost:8080/"
        },
        "id": "6OWl4Iel75Cu",
        "outputId": "065f1509-6722-4acb-ca40-d9bcda5572cb"
      },
      "execution_count": 32,
      "outputs": [
        {
          "output_type": "stream",
          "name": "stdout",
          "text": [
            "var x is Hello World!\n"
          ]
        }
      ]
    },
    {
      "cell_type": "code",
      "source": [
        "#Numerical Conditions\n",
        "x = 10\n",
        "if x == '10':\n",
        "  print(\"var x is a string\")\n",
        "elif x == 10:\n",
        "  print(\"var x is an integer\")\n",
        "else:\n",
        "  print(\"var x is none of the above\")\n"
      ],
      "metadata": {
        "colab": {
          "base_uri": "https://localhost:8080/"
        },
        "id": "jNsJArM38JKe",
        "outputId": "1c644399-1236-45aa-a3fb-959254c7e34a"
      },
      "execution_count": 33,
      "outputs": [
        {
          "output_type": "stream",
          "name": "stdout",
          "text": [
            "var x is an integer\n"
          ]
        }
      ]
    },
    {
      "cell_type": "markdown",
      "source": [
        "## 4.Loops"
      ],
      "metadata": {
        "id": "DxX6MgGV9uNs"
      }
    },
    {
      "cell_type": "code",
      "source": [
        "# For Loops\n",
        "for var in range (0,5,2):\n",
        "  print(var)"
      ],
      "metadata": {
        "colab": {
          "base_uri": "https://localhost:8080/"
        },
        "id": "uvo9JLj294dF",
        "outputId": "2b37b6f3-d82b-4478-89b5-77b9fd362057"
      },
      "execution_count": 37,
      "outputs": [
        {
          "output_type": "stream",
          "name": "stdout",
          "text": [
            "0\n",
            "2\n",
            "4\n"
          ]
        }
      ]
    },
    {
      "cell_type": "code",
      "source": [
        "#While Loop\n",
        "var= 0\n",
        "while var < 5:\n",
        "  print(var)\n",
        "  var += 2"
      ],
      "metadata": {
        "colab": {
          "base_uri": "https://localhost:8080/"
        },
        "id": "KMiJiH_f-EUU",
        "outputId": "8a772ade-374f-47ce-9702-c97f480cb895"
      },
      "execution_count": 38,
      "outputs": [
        {
          "output_type": "stream",
          "name": "stdout",
          "text": [
            "0\n",
            "2\n",
            "4\n"
          ]
        }
      ]
    },
    {
      "cell_type": "code",
      "source": [
        "# Nested Loops\n",
        "x = 0\n",
        "while x < 5:\n",
        "  for y in range (0,x):\n",
        "    print(y, end='')\n",
        "  x += 1\n",
        "  print()"
      ],
      "metadata": {
        "colab": {
          "base_uri": "https://localhost:8080/"
        },
        "id": "lec0O63q-PnM",
        "outputId": "bb18cb73-bde5-4864-9cbf-06ee6bd897be"
      },
      "execution_count": 39,
      "outputs": [
        {
          "output_type": "stream",
          "name": "stdout",
          "text": [
            "\n",
            "0\n",
            "01\n",
            "012\n",
            "0123\n"
          ]
        }
      ]
    },
    {
      "cell_type": "markdown",
      "source": [
        "\n",
        "\n",
        "> **Note: The loop declarations ends with a colon (:) while its contents inside are indented**\n",
        "\n"
      ],
      "metadata": {
        "id": "ABuAfm7W--i9"
      }
    },
    {
      "cell_type": "markdown",
      "source": [
        "## 5.Tuples"
      ],
      "metadata": {
        "id": "eQQwG5o0EaT8"
      }
    },
    {
      "cell_type": "code",
      "source": [],
      "metadata": {
        "id": "2E2v-bSMF7mc"
      },
      "execution_count": null,
      "outputs": []
    },
    {
      "cell_type": "markdown",
      "source": [
        "##6.Lists"
      ],
      "metadata": {
        "id": "_PuJJOp4AJ_k"
      }
    },
    {
      "cell_type": "markdown",
      "source": [
        ">**Can contain a number of values comprised of different datatypes.**"
      ],
      "metadata": {
        "id": "7nw-bUV0ASPY"
      }
    },
    {
      "cell_type": "code",
      "source": [
        "pi = 3.14\n",
        "varList = [1 , 2, 'A', 'B', 'Hello!', pi]\n",
        "print(varList[0])"
      ],
      "metadata": {
        "colab": {
          "base_uri": "https://localhost:8080/"
        },
        "id": "JHzJkFQrARJg",
        "outputId": "147ee4ee-e78d-4f00-87d6-e990527eb305"
      },
      "execution_count": 42,
      "outputs": [
        {
          "output_type": "stream",
          "name": "stdout",
          "text": [
            "1\n"
          ]
        }
      ]
    },
    {
      "cell_type": "code",
      "source": [
        "print(varList[4])"
      ],
      "metadata": {
        "colab": {
          "base_uri": "https://localhost:8080/"
        },
        "id": "Ik956FM0BY-U",
        "outputId": "e51575d6-ba7f-4e05-c78c-ebd0a8feabc6"
      },
      "execution_count": 43,
      "outputs": [
        {
          "output_type": "stream",
          "name": "stdout",
          "text": [
            "Hello!\n"
          ]
        }
      ]
    },
    {
      "cell_type": "code",
      "source": [
        "varList.append('World!')\n",
        "print(varList[6])"
      ],
      "metadata": {
        "colab": {
          "base_uri": "https://localhost:8080/"
        },
        "id": "yMUCF-txBiDn",
        "outputId": "34183a93-0af4-4ac9-939e-dcdc32046451"
      },
      "execution_count": 44,
      "outputs": [
        {
          "output_type": "stream",
          "name": "stdout",
          "text": [
            "World!\n"
          ]
        }
      ]
    },
    {
      "cell_type": "code",
      "source": [
        "len(varList)"
      ],
      "metadata": {
        "colab": {
          "base_uri": "https://localhost:8080/"
        },
        "id": "DqMKo_8yBr9L",
        "outputId": "271ec48a-ffeb-450c-f6c1-37b2b452359a"
      },
      "execution_count": 45,
      "outputs": [
        {
          "output_type": "execute_result",
          "data": {
            "text/plain": [
              "7"
            ]
          },
          "metadata": {},
          "execution_count": 45
        }
      ]
    },
    {
      "cell_type": "code",
      "source": [
        "print(varList[5])"
      ],
      "metadata": {
        "colab": {
          "base_uri": "https://localhost:8080/"
        },
        "id": "0AaOqxT6Bxjf",
        "outputId": "b8845ab7-62ba-4ce3-a5e7-c477bf9dd4d9"
      },
      "execution_count": 46,
      "outputs": [
        {
          "output_type": "stream",
          "name": "stdout",
          "text": [
            "3.14\n"
          ]
        }
      ]
    },
    {
      "cell_type": "code",
      "source": [
        "varList.remove(pi)\n",
        "print(varList[5])"
      ],
      "metadata": {
        "colab": {
          "base_uri": "https://localhost:8080/"
        },
        "id": "xnktFzR0Bz3M",
        "outputId": "294a2495-6501-4845-dd34-392bf85ac87e"
      },
      "execution_count": 47,
      "outputs": [
        {
          "output_type": "stream",
          "name": "stdout",
          "text": [
            "World!\n"
          ]
        }
      ]
    },
    {
      "cell_type": "markdown",
      "source": [
        "\n",
        "\n",
        "> **Note:*\n",
        "\n"
      ],
      "metadata": {
        "id": "L0Ee2caiB57N"
      }
    },
    {
      "cell_type": "markdown",
      "source": [
        "## 7.Dictionaries"
      ],
      "metadata": {
        "id": "oyFSmToKCGy9"
      }
    },
    {
      "cell_type": "code",
      "source": [
        "var = \"Hello World!\"\n",
        "varDict = {'first':123,2:'abc', '3':var,4:['lista','listb']}\n",
        "print(varDict['first'])"
      ],
      "metadata": {
        "colab": {
          "base_uri": "https://localhost:8080/"
        },
        "id": "SjPxO_znCKJT",
        "outputId": "72187787-d1a8-44d3-ddd9-6cfd7f751a42"
      },
      "execution_count": 48,
      "outputs": [
        {
          "output_type": "stream",
          "name": "stdout",
          "text": [
            "123\n"
          ]
        }
      ]
    },
    {
      "cell_type": "code",
      "source": [
        "print(varDict[2])"
      ],
      "metadata": {
        "colab": {
          "base_uri": "https://localhost:8080/"
        },
        "id": "0-0M_bvaC1-t",
        "outputId": "be00ee1e-bf12-40a2-9ba7-454d4d308fb4"
      },
      "execution_count": 49,
      "outputs": [
        {
          "output_type": "stream",
          "name": "stdout",
          "text": [
            "abc\n"
          ]
        }
      ]
    },
    {
      "cell_type": "code",
      "source": [
        "print(varDict['3'])"
      ],
      "metadata": {
        "colab": {
          "base_uri": "https://localhost:8080/"
        },
        "id": "g7TvNwoPC6VF",
        "outputId": "80ad1841-79a9-4c61-bd99-5d6b35730159"
      },
      "execution_count": 50,
      "outputs": [
        {
          "output_type": "stream",
          "name": "stdout",
          "text": [
            "Hello World!\n"
          ]
        }
      ]
    },
    {
      "cell_type": "code",
      "source": [
        "print(varDict[4])"
      ],
      "metadata": {
        "colab": {
          "base_uri": "https://localhost:8080/"
        },
        "id": "f48uDDjEC-pb",
        "outputId": "220a4de3-95a2-48cb-baf4-9437eb7c4b96"
      },
      "execution_count": 51,
      "outputs": [
        {
          "output_type": "stream",
          "name": "stdout",
          "text": [
            "['lista', 'listb']\n"
          ]
        }
      ]
    },
    {
      "cell_type": "code",
      "source": [
        "print(varDict[4][1])"
      ],
      "metadata": {
        "colab": {
          "base_uri": "https://localhost:8080/"
        },
        "id": "m9skO97CDDS5",
        "outputId": "b3b2fd85-7182-4cd3-f4da-2f48216eb7cc"
      },
      "execution_count": 52,
      "outputs": [
        {
          "output_type": "stream",
          "name": "stdout",
          "text": [
            "listb\n"
          ]
        }
      ]
    },
    {
      "cell_type": "code",
      "source": [
        "len(varDict)"
      ],
      "metadata": {
        "colab": {
          "base_uri": "https://localhost:8080/"
        },
        "id": "tRYBunRKDHkN",
        "outputId": "14f0d949-5a65-4005-f04c-ac6c24ca24cb"
      },
      "execution_count": 53,
      "outputs": [
        {
          "output_type": "execute_result",
          "data": {
            "text/plain": [
              "4"
            ]
          },
          "metadata": {},
          "execution_count": 53
        }
      ]
    },
    {
      "cell_type": "markdown",
      "source": [
        "## 8. Generators and Compression"
      ],
      "metadata": {
        "id": "fT_cDRE1FF9f"
      }
    },
    {
      "cell_type": "markdown",
      "source": [
        "\n",
        "\n",
        "> **Generatoes can be used to build list in the memory as objects**\n",
        "\n"
      ],
      "metadata": {
        "id": "S14wHhmJFO5w"
      }
    },
    {
      "cell_type": "code",
      "source": [
        "def gen_num_up_to(n):\n",
        "  num = 0\n",
        "  while num < n:\n",
        "    yield num\n",
        "    num += 1"
      ],
      "metadata": {
        "id": "XYIDEg5hFh4G"
      },
      "execution_count": 67,
      "outputs": []
    },
    {
      "cell_type": "code",
      "source": [
        "gen_num_up_to(5)"
      ],
      "metadata": {
        "colab": {
          "base_uri": "https://localhost:8080/"
        },
        "id": "C2wNZCd-Frb-",
        "outputId": "10e42059-b292-4002-bd2a-8cc4c3d1cebd"
      },
      "execution_count": 70,
      "outputs": [
        {
          "output_type": "execute_result",
          "data": {
            "text/plain": [
              "<generator object gen_num_up_to at 0x7ac7874ebdf0>"
            ]
          },
          "metadata": {},
          "execution_count": 70
        }
      ]
    },
    {
      "cell_type": "markdown",
      "source": [
        "\n",
        "\n",
        "> **Note: This creates an object**\n",
        "\n"
      ],
      "metadata": {
        "id": "pkHc2blvGJj3"
      }
    },
    {
      "cell_type": "code",
      "source": [
        "varList = gen_num_up_to(5)\n",
        "print([var for var in varList])"
      ],
      "metadata": {
        "colab": {
          "base_uri": "https://localhost:8080/"
        },
        "id": "LCcxbpHLGT6G",
        "outputId": "a2524a4b-692a-4822-e5d7-1312348f2965"
      },
      "execution_count": 72,
      "outputs": [
        {
          "output_type": "stream",
          "name": "stdout",
          "text": [
            "[0, 1, 2, 3, 4]\n"
          ]
        }
      ]
    },
    {
      "cell_type": "code",
      "source": [
        "def gen_num_up_to(n):\n",
        "  num = 0\n",
        "  while num < n:\n",
        "    yield num\n",
        "    num += 2\n",
        "\n",
        "varList = gen_num_up_to(5)\n",
        "print([var for var in varList])"
      ],
      "metadata": {
        "colab": {
          "base_uri": "https://localhost:8080/"
        },
        "id": "JSSx4w3XHOlr",
        "outputId": "6914060c-c295-4b3c-b5e9-e0d68d760ebe"
      },
      "execution_count": 73,
      "outputs": [
        {
          "output_type": "stream",
          "name": "stdout",
          "text": [
            "[0, 2, 4]\n"
          ]
        }
      ]
    },
    {
      "cell_type": "code",
      "source": [
        "varList = range (0,5,2)\n",
        "print([var for var in varList])"
      ],
      "metadata": {
        "colab": {
          "base_uri": "https://localhost:8080/"
        },
        "id": "Okt6Cc1fHdZS",
        "outputId": "ef592b7e-ee1a-4ebd-dc3a-03d76a44b1d6"
      },
      "execution_count": 74,
      "outputs": [
        {
          "output_type": "stream",
          "name": "stdout",
          "text": [
            "[0, 2, 4]\n"
          ]
        }
      ]
    },
    {
      "cell_type": "markdown",
      "source": [
        "\n",
        "\n",
        "> **Note: Python's built in range function range([start],stop,[step])**\n",
        "\n"
      ],
      "metadata": {
        "id": "ZBKyIfbZHljK"
      }
    },
    {
      "cell_type": "markdown",
      "source": [
        "## 9. Slicing"
      ],
      "metadata": {
        "id": "TBX_0ABVH0ta"
      }
    },
    {
      "cell_type": "code",
      "source": [
        "varList=[1,2,3,4,5,6,7,8,9,10]\n",
        "print(varList[:5])"
      ],
      "metadata": {
        "colab": {
          "base_uri": "https://localhost:8080/"
        },
        "id": "CdojtRnOH7Rr",
        "outputId": "4e59cb61-20a2-45de-e026-53ffaf5287a4"
      },
      "execution_count": 75,
      "outputs": [
        {
          "output_type": "stream",
          "name": "stdout",
          "text": [
            "[1, 2, 3, 4, 5]\n"
          ]
        }
      ]
    },
    {
      "cell_type": "code",
      "source": [
        "print(varList[5:])"
      ],
      "metadata": {
        "colab": {
          "base_uri": "https://localhost:8080/"
        },
        "id": "q1Kaj_R0IT3i",
        "outputId": "34d2a248-d97f-475d-b577-56451e013214"
      },
      "execution_count": 76,
      "outputs": [
        {
          "output_type": "stream",
          "name": "stdout",
          "text": [
            "[6, 7, 8, 9, 10]\n"
          ]
        }
      ]
    },
    {
      "cell_type": "code",
      "source": [
        "print(varList[:-2])"
      ],
      "metadata": {
        "colab": {
          "base_uri": "https://localhost:8080/"
        },
        "id": "Sb204dTLIZgo",
        "outputId": "25fc6cc2-16cf-4ac4-ef98-5a9a73c4ad98"
      },
      "execution_count": 77,
      "outputs": [
        {
          "output_type": "stream",
          "name": "stdout",
          "text": [
            "[1, 2, 3, 4, 5, 6, 7, 8]\n"
          ]
        }
      ]
    },
    {
      "cell_type": "code",
      "source": [
        "print(varList[-2:])"
      ],
      "metadata": {
        "colab": {
          "base_uri": "https://localhost:8080/"
        },
        "id": "TXN_lZjjId3D",
        "outputId": "b61e6d93-e008-4e12-df5b-3c44d5f88633"
      },
      "execution_count": 79,
      "outputs": [
        {
          "output_type": "stream",
          "name": "stdout",
          "text": [
            "[9, 10]\n"
          ]
        }
      ]
    },
    {
      "cell_type": "code",
      "source": [
        "print(varList[2:-2])"
      ],
      "metadata": {
        "colab": {
          "base_uri": "https://localhost:8080/"
        },
        "id": "5ZuaISlAIknq",
        "outputId": "42977985-8584-4afd-9b69-adf4726cca4d"
      },
      "execution_count": 80,
      "outputs": [
        {
          "output_type": "stream",
          "name": "stdout",
          "text": [
            "[3, 4, 5, 6, 7, 8]\n"
          ]
        }
      ]
    },
    {
      "cell_type": "code",
      "source": [
        "print(varList[2:8:2])"
      ],
      "metadata": {
        "colab": {
          "base_uri": "https://localhost:8080/"
        },
        "id": "N_biGc4RIriT",
        "outputId": "b1e3557e-da9f-423f-e86c-acf72b07eccc"
      },
      "execution_count": 81,
      "outputs": [
        {
          "output_type": "stream",
          "name": "stdout",
          "text": [
            "[3, 5, 7]\n"
          ]
        }
      ]
    },
    {
      "cell_type": "markdown",
      "source": [
        "\n",
        "\n",
        "> **Note:**\n",
        "\n",
        "*   List(start: )\n",
        "*   List ( :end)\n",
        "*   list(start:end)\n",
        "* List(Start:end:step)\n",
        "\n",
        "\n",
        "\n",
        "\n",
        "\n",
        "\n",
        "\n",
        "\n"
      ],
      "metadata": {
        "id": "nxz5qUqxIwUU"
      }
    },
    {
      "cell_type": "markdown",
      "source": [
        "##10.Functions"
      ],
      "metadata": {
        "id": "YWXmpJE2JwVi"
      }
    },
    {
      "cell_type": "code",
      "source": [],
      "metadata": {
        "id": "5JDuAa9iJ7cS"
      },
      "execution_count": null,
      "outputs": []
    }
  ]
}